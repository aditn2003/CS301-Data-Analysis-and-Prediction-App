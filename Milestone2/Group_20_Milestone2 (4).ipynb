{
  "nbformat": 4,
  "nbformat_minor": 0,
  "metadata": {
    "colab": {
      "provenance": []
    },
    "kernelspec": {
      "name": "python3",
      "display_name": "Python 3"
    },
    "language_info": {
      "name": "python"
    }
  },
  "cells": [
    {
      "cell_type": "code",
      "source": [
        "import pandas as pd\n",
        "import numpy as np\n",
        "\n",
        "try:\n",
        "    df = pd.read_csv('insurance.csv')\n",
        "except FileNotFoundError:\n",
        "    from google.colab import files\n",
        "    uploaded = files.upload()\n",
        "    df = pd.read_csv('insurance.csv')\n",
        "\n",
        "input_features = df[['age', 'sex', 'bmi', 'children', 'smoker', 'region']]\n",
        "input_features = pd.get_dummies(input_features, drop_first=True)\n",
        "output_target = df['charges']\n",
        "\n",
        "train_size = int(0.8 * len(df))\n",
        "X_train_data = input_features[:train_size]\n",
        "X_test_data = input_features[train_size:]\n",
        "y_train_data = output_target[:train_size]\n",
        "y_test_data = output_target[train_size:]\n",
        "\n",
        "X_train_data = np.c_[np.ones(X_train_data.shape[0]), X_train_data]\n",
        "X_test_data = np.c_[np.ones(X_test_data.shape[0]), X_test_data]\n",
        "\n",
        "X_train_data = X_train_data.astype(np.float64)\n",
        "X_test_data = X_test_data.astype(np.float64)\n",
        "\n",
        "coefficients = np.linalg.inv(X_train_data.T @ X_train_data) @ X_train_data.T @ y_train_data\n",
        "\n",
        "y_predictions = X_test_data @ coefficients\n",
        "\n",
        "mean_squared_error_value = np.mean((y_test_data - y_predictions) ** 2)\n",
        "\n",
        "mean_output = np.mean(y_test_data)\n",
        "total_sum_of_squares = np.sum((y_test_data - mean_output) ** 2)\n",
        "residual_sum_of_squares = np.sum((y_test_data - y_predictions) ** 2)\n",
        "r_squared_value = 1 - (residual_sum_of_squares / total_sum_of_squares)\n",
        "\n",
        "print(\"Mean Squared Error (MSE):\", f\"{mean_squared_error_value:,.2f}\")\n",
        "print(\"R-squared (R²):\", r_squared_value)\n"
      ],
      "metadata": {
        "colab": {
          "base_uri": "https://localhost:8080/"
        },
        "id": "Nxbk8dzvR2Xz",
        "outputId": "b8ca03c6-079b-4f44-8f6f-c3bbe55d4946"
      },
      "execution_count": null,
      "outputs": [
        {
          "output_type": "stream",
          "name": "stdout",
          "text": [
            "Mean Squared Error (MSE): 37,175,951.41\n",
            "R-squared (R²): 0.7584847182677392\n"
          ]
        }
      ]
    }
  ]
}